{
 "cells": [
  {
   "cell_type": "code",
   "execution_count": 5,
   "id": "f430f74d",
   "metadata": {},
   "outputs": [],
   "source": [
    "import operaciones\n",
    "from mipakete import mequiere"
   ]
  },
  {
   "cell_type": "code",
   "execution_count": 7,
   "id": "a478ab42",
   "metadata": {},
   "outputs": [
    {
     "name": "stdout",
     "output_type": "stream",
     "text": [
      "8\n"
     ]
    }
   ],
   "source": [
    "\n",
    "resultado = operaciones.suma(5, 3)\n",
    "print(resultado)  # Imprimirá 8"
   ]
  },
  {
   "cell_type": "code",
   "execution_count": 6,
   "id": "ce8efcca",
   "metadata": {},
   "outputs": [
    {
     "name": "stdout",
     "output_type": "stream",
     "text": [
      "2\n"
     ]
    }
   ],
   "source": [
    "resultado = operaciones.resta(5, 3)\n",
    "print(resultado)"
   ]
  },
  {
   "cell_type": "code",
   "execution_count": 10,
   "id": "981eb450",
   "metadata": {},
   "outputs": [
    {
     "name": "stdout",
     "output_type": "stream",
     "text": [
      "hola me quieres? SI o NOsi\n",
      "no\n"
     ]
    }
   ],
   "source": [
    "mequiere.mequiere()"
   ]
  },
  {
   "cell_type": "code",
   "execution_count": 32,
   "id": "a93d8100",
   "metadata": {},
   "outputs": [
    {
     "name": "stdout",
     "output_type": "stream",
     "text": [
      "Hey, soy una moto\n"
     ]
    }
   ],
   "source": [
    "from mipakete import terrestres\n",
    "\n",
    "print(terrestres.motocicleta()) "
   ]
  },
  {
   "cell_type": "code",
   "execution_count": 19,
   "id": "702f4820",
   "metadata": {},
   "outputs": [
    {
     "name": "stdout",
     "output_type": "stream",
     "text": [
      "Hola, soy un avioncit0o.\n"
     ]
    }
   ],
   "source": [
    "from mipakete import aereos\n",
    "\n",
    "print(aereos.avion()) "
   ]
  },
  {
   "cell_type": "code",
   "execution_count": 2,
   "id": "6081a188",
   "metadata": {},
   "outputs": [
    {
     "name": "stdout",
     "output_type": "stream",
     "text": [
      "Hola soy un barco.\n"
     ]
    }
   ],
   "source": [
    "from mipakete import acuaticos\n",
    "\n",
    "print(acuaticos.barco()) "
   ]
  },
  {
   "cell_type": "code",
   "execution_count": 5,
   "id": "6c9bdce5",
   "metadata": {
    "scrolled": false
   },
   "outputs": [
    {
     "name": "stdout",
     "output_type": "stream",
     "text": [
      "Selecciona un saludo:\n",
      "1. Saludo en inglés\n",
      "2. Saludo en español\n",
      "3. Saludo en francés\n",
      "4. Saludo en alemán\n",
      "5. Despedida en inglés\n",
      "Ingresa el número de tu elección: 5\n",
      "Goodbye :)\n"
     ]
    }
   ],
   "source": [
    "from mipakete import saludos\n",
    "\n",
    "\n",
    "print(\"Selecciona un saludo:\")\n",
    "print(\"1. Saludo en inglés\")\n",
    "print(\"2. Saludo en español\")\n",
    "print(\"3. Saludo en francés\")\n",
    "print(\"4. Saludo en alemán\")\n",
    "print(\"5. Despedida en inglés\")\n",
    "\n",
    "opcion = input(\"Ingresa el número de tu elección: \")\n",
    "\n",
    "if opcion == \"1\":\n",
    "    print(saludos.saludar_ingles())\n",
    "elif opcion == \"2\":\n",
    "    print(saludos.saludar_espanol())\n",
    "elif opcion == \"3\":\n",
    "    print(saludos.saludar_frances())\n",
    "elif opcion == \"4\":\n",
    "    print(saludos.saludar_aleman())\n",
    "elif opcion == \"5\":\n",
    "    print(saludos.despedirse())\n",
    "else:\n",
    "    print(\"Opción no válida. Por favor, selecciona un número del 1 al 5.\")\n",
    "     \n"
   ]
  },
  {
   "cell_type": "code",
   "execution_count": null,
   "id": "27bf0550",
   "metadata": {},
   "outputs": [],
   "source": []
  }
 ],
 "metadata": {
  "kernelspec": {
   "display_name": "Python 3 (ipykernel)",
   "language": "python",
   "name": "python3"
  },
  "language_info": {
   "codemirror_mode": {
    "name": "ipython",
    "version": 3
   },
   "file_extension": ".py",
   "mimetype": "text/x-python",
   "name": "python",
   "nbconvert_exporter": "python",
   "pygments_lexer": "ipython3",
   "version": "3.11.4"
  }
 },
 "nbformat": 4,
 "nbformat_minor": 5
}
