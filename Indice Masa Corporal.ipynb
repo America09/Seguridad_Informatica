{
 "cells": [
  {
   "cell_type": "code",
   "execution_count": 12,
   "id": "a8491ef0",
   "metadata": {
    "scrolled": false
   },
   "outputs": [
    {
     "name": "stdout",
     "output_type": "stream",
     "text": [
      "Ameee peso normalito: IMC 25.3\n"
     ]
    }
   ],
   "source": [
    "persona = {\n",
    "    \"nombre\": \"Ameee\",\n",
    "    \"ap_paterno\": \"González\",\n",
    "    \"ap_materno\": \"Carrasco\",\n",
    "    \"edad\": 21,\n",
    "    \"ciudad\": \"Cancun\",\n",
    "    \"altura\": 1.54,\n",
    "    \"peso\": 60\n",
    "}\n",
    "\n",
    "def imc(peso,altura,nombre):\n",
    "    imc_p = peso/altura**2\n",
    "    \n",
    "    if imc_p < 18.5:\n",
    "        print(f\"{nombre} estas bajo de peso: IMC {round(imc_p,1)}\")\n",
    "    elif imc_p > 18.5 and imc_p <= 24.9:\n",
    "        print(f\"{nombre} peso normal: IMC {round(imc_p,1)}\")\n",
    "    elif imc_p > 25 and imc_p <= 29.9:\n",
    "        print(f\"{nombre} peso normalito: IMC {round(imc_p,1)}\")\n",
    "    else:\n",
    "        print(f\"{nombre} estas en obesidad: IMC {round(imc_p,1)}\")\n",
    "\n",
    "peso_p = persona[\"peso\"]\n",
    "altura_p = persona[\"altura\"]\n",
    "nombre_p = persona[\"nombre\"]\n",
    "\n",
    "imc(peso_p,altura_p,nombre_p)"
   ]
  },
  {
   "cell_type": "code",
   "execution_count": null,
   "id": "794aa759",
   "metadata": {},
   "outputs": [],
   "source": []
  }
 ],
 "metadata": {
  "kernelspec": {
   "display_name": "Python 3 (ipykernel)",
   "language": "python",
   "name": "python3"
  },
  "language_info": {
   "codemirror_mode": {
    "name": "ipython",
    "version": 3
   },
   "file_extension": ".py",
   "mimetype": "text/x-python",
   "name": "python",
   "nbconvert_exporter": "python",
   "pygments_lexer": "ipython3",
   "version": "3.11.4"
  }
 },
 "nbformat": 4,
 "nbformat_minor": 5
}
